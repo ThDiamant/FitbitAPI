{
 "cells": [
  {
   "cell_type": "markdown",
   "id": "50017554",
   "metadata": {},
   "source": [
    "# 1 - Interacting with the Fitbit API"
   ]
  },
  {
   "cell_type": "markdown",
   "id": "10eb26c9",
   "metadata": {},
   "source": [
    "In this section we will be using the python-fitbit and the requests modules to get data from the Fitbit API. This is not the only way to do it, for example, a simple alternative would be to use the Fitbit Web API Explorer (https://dev.fitbit.com/build/reference/web-api/explore/). The steps taken here are largely outlined in this (https://towardsdatascience.com/using-the-fitbit-web-api-with-python-f29f119621ea) Towards Data Science article."
   ]
  },
  {
   "cell_type": "markdown",
   "id": "071bce7e",
   "metadata": {},
   "source": [
    "## 1.1 Setting up "
   ]
  },
  {
   "cell_type": "markdown",
   "id": "73380fd6",
   "metadata": {},
   "source": [
    "In this section we load all necessary modules, proceed with the authorization from the Fitbit API and also define the Fitbit object (from the python-fitbit module) which is used to make some GET requests to the Fitbit API."
   ]
  },
  {
   "cell_type": "code",
   "execution_count": null,
   "id": "a7e8558b",
   "metadata": {},
   "outputs": [],
   "source": [
    "# Import necessary modules\n",
    "import gather_keys_oauth2 as Oauth2 # This is a python file you need to have in the same directory as your code so you can import it\n",
    "import fitbit\n",
    "import pandas as pd \n",
    "from datetime import datetime\n",
    "import requests\n",
    "\n",
    "# Enter CLIENT_ID and CLIENT_SECRET\n",
    "CLIENT_ID = '23QRRC'\n",
    "CLIENT_SECRET = '51922a48a2df4434cc20afaac4ee97b8'\n",
    "\n",
    "# Date after which we have data\n",
    "START_DATE = \"2023-03-29\""
   ]
  },
  {
   "cell_type": "markdown",
   "id": "e855a4d7",
   "metadata": {},
   "source": [
    "Upon execution of the cell below, you will be redirected to another tab and will be asked to login into your Fitbit account. Upon doing that you will see a page that should say something like \"Authentication Complete, you may close this tab\"."
   ]
  },
  {
   "cell_type": "code",
   "execution_count": null,
   "id": "5719b36a",
   "metadata": {},
   "outputs": [],
   "source": [
    "# Authorize user\n",
    "server=Oauth2.OAuth2Server(CLIENT_ID, CLIENT_SECRET)\n",
    "server.browser_authorize()\n",
    "# Save access and refresh tokens\n",
    "ACCESS_TOKEN = str(server.fitbit.client.session.token['access_token'])\n",
    "REFRESH_TOKEN = str(server.fitbit.client.session.token['refresh_token'])\n",
    "EXPIRES_AT = str(server.fitbit.client.session.token['expires_at'])"
   ]
  },
  {
   "cell_type": "markdown",
   "id": "24c59dc0",
   "metadata": {},
   "source": [
    "In the previous cells we completed the authorization process for the Id and Secret that is specified in the first code block. Next, we create an instance of the Fitbit object of the python-fitbit module, which will be the base object we will use to get the data we want."
   ]
  },
  {
   "cell_type": "code",
   "execution_count": null,
   "id": "5d1e33d5",
   "metadata": {},
   "outputs": [],
   "source": [
    "# Create Fitbit object which will be used to get the data\n",
    "auth2_client = fitbit.Fitbit(client_id = CLIENT_ID,\n",
    "                             client_secret = CLIENT_SECRET,\n",
    "                             expires_at = EXPIRES_AT,\n",
    "                             oauth2 = True,\n",
    "                             access_token = ACCESS_TOKEN,\n",
    "                             refresh_token = REFRESH_TOKEN)"
   ]
  },
  {
   "cell_type": "markdown",
   "id": "a323cd62",
   "metadata": {},
   "source": [
    "## 1.2 Get data"
   ]
  },
  {
   "cell_type": "markdown",
   "id": "47497417",
   "metadata": {},
   "source": [
    "To get Sleep related data, we will be using the requests module. The reason for that is that for some reason in the python-fitbit module, there is an older API version variable that is hardcoded and we cannot change it (it's 1 while it should be 1.2 for Sleep data). As far as we know there is an issue about that in the module's Github page, but no implemented solution.\n",
    "\n",
    "Therefore what we did is that we used the Fitbit Web API Explorer to get the CURL of the endpoint we want to draw data from, converted it to python using the requests module, and get the data we want.\n",
    "\n",
    "For Activity data we used the python-fitbit module. We have used several different resources to quantify activity (steps, minutes active/sedentary).\n"
   ]
  },
  {
   "cell_type": "code",
   "execution_count": null,
   "id": "a0a4f144",
   "metadata": {
    "scrolled": true
   },
   "outputs": [],
   "source": [
    "def get_sleep_data(ACCESS_TOKEN, date):\n",
    "    \"\"\"\n",
    "    Inputs:\n",
    "        - ACCESS_TOKEN <str>: Access token to be used by the API call.\n",
    "        - date <str> (yyyy-mm-dd): Date for which we want to pull data.\n",
    "        \n",
    "    Returns the data related to sleep for <date> from the Fitbit API. \n",
    "    \"\"\"\n",
    "    \n",
    "    # Check date value\n",
    "    global START_DATE\n",
    "    if datetime.strptime(date, '%Y-%m-%d') < datetime.strptime(START_DATE, '%Y-%m-%d'):\n",
    "        raise ValueError(\"date cannot be before {}\".format(START_DATE))\n",
    "    \n",
    "    # Make API get request\n",
    "    headers = {\n",
    "        'accept': 'application/json',\n",
    "        'authorization': 'Bearer {}'.format(ACCESS_TOKEN),\n",
    "    }\n",
    "\n",
    "    response = requests.get('https://api.fitbit.com/1.2/user/-/sleep/date/{}.json'.format(date), \n",
    "                            headers=headers)\n",
    "\n",
    "    return response.json()\n",
    "\n",
    "\n",
    "def get_activity_data(date):\n",
    "    \"\"\"\n",
    "    Inputs:\n",
    "        - date <str> (yyyy-mm-dd): Date we want the data of.\n",
    "    \n",
    "    Returns activity data for the specified date. Activity is quantified in terms of the elements of the resources list\n",
    "    that is defined inside the function.\n",
    "    \"\"\"\n",
    "    \n",
    "    # Check date value\n",
    "    global START_DATE\n",
    "    if datetime.strptime(date, '%Y-%m-%d') < datetime.strptime(START_DATE, '%Y-%m-%d'):\n",
    "        raise ValueError(\"date cannot be before {}\".format(START_DATE))\n",
    "   \n",
    "    # Dictionary where data returned by the API will be stored\n",
    "    data = {}\n",
    "\n",
    "    # Different kinds of resources that quantify activity\n",
    "    resources = [\n",
    "        \"minutesSedentary\",\n",
    "        \"minutesLightlyActive\",\n",
    "        \"minutesFairlyActive\",\n",
    "        \"minutesVeryActive\",\n",
    "        \"steps\"\n",
    "    ]\n",
    "    \n",
    "    # A separate API call is made for each resource\n",
    "    for resource in resources:\n",
    "        resourceString = \"activities/\" + resource\n",
    "        # detailString can be one of 1min, 5min, 15min\n",
    "        if resource == \"steps\":\n",
    "            # Thought this might make more sense, feel free to change it if you think otherwise\n",
    "            detailString = \"1min\"\n",
    "        else:\n",
    "            detailString = \"15min\"\n",
    "        \n",
    "        # Use fitbit module to make the API get request\n",
    "        data[resource] = auth2_client.intraday_time_series(resourceString,\n",
    "                                                           date,\n",
    "                                                           detail_level = detailString)\n",
    "        \n",
    "    return data\n"
   ]
  },
  {
   "cell_type": "code",
   "execution_count": null,
   "id": "0e9ab03f",
   "metadata": {},
   "outputs": [],
   "source": [
    "# Print sleep data\n",
    "date = \"2023-04-20\"\n",
    "get_sleep_data(ACCESS_TOKEN, date)"
   ]
  },
  {
   "cell_type": "code",
   "execution_count": null,
   "id": "91d016af",
   "metadata": {},
   "outputs": [],
   "source": [
    "# Print activity data\n",
    "get_activity_data(date)"
   ]
  },
  {
   "cell_type": "markdown",
   "id": "41ec8a73",
   "metadata": {},
   "source": [
    "### Example code on how to get and transform sleep data. Just for reference. (source: https://towardsdatascience.com/using-the-fitbit-web-api-with-python-f29f119621ea)"
   ]
  },
  {
   "cell_type": "code",
   "execution_count": null,
   "id": "a7272399",
   "metadata": {},
   "outputs": [],
   "source": [
    "# # Can't go before 29/3/23 since there aren't any data before that\n",
    "# startTime = datetime.strptime(START_DATE, '%Y-%m-%d')\n",
    "# # Should change to what we want it to be - using few days of data for testing\n",
    "# endTime = pd.datetime(year = 2023, month = 3, day = 31)\n",
    "\n",
    "# allDates = pd.date_range(start=startTime, end = endTime) # CHANGE THAT SO THAT datetime MODULE IS USED INSTEAD\n",
    "# allDates"
   ]
  },
  {
   "cell_type": "code",
   "execution_count": null,
   "id": "166278a0",
   "metadata": {},
   "outputs": [],
   "source": [
    "# date_list = []\n",
    "# df_list = []\n",
    "# stages_df_list = []\n",
    "\n",
    "# # For each date in the specified time period\n",
    "# for oneDate in allDates:\n",
    "#     # Format date the data of which we want to retrieve\n",
    "# #     oneDate = oneDate.date().strftime(\"%Y-%m-%d\")\n",
    "#     # Get sleep data for the specified date\n",
    "#     oneDayData = get_sleep_data(ACCESS_TOKEN, date)\n",
    "#     test = oneDayData\n",
    "#     # Get number of minutes for each stage of sleep into a df\n",
    "#     stages_df = pd.DataFrame(oneDayData['summary'])\n",
    "#     # Get the time series data into a df\n",
    "#     timeSeriesDf = pd.DataFrame(oneDayData['sleep'][0]['minuteData'])\n",
    "    \n",
    "#     date_list.append(oneDate)\n",
    "    \n",
    "#     df_list.append(timeSeriesDf)\n",
    "    \n",
    "#     stages_df_list.append(stages_df)"
   ]
  },
  {
   "cell_type": "code",
   "execution_count": null,
   "id": "27a7fe5b",
   "metadata": {},
   "outputs": [],
   "source": [
    "# final_df_list = []\n",
    "\n",
    "# final_stages_df_list = []\n",
    "\n",
    "# for date, df, stages_df in zip(date_list, df_list, stages_df_list):\n",
    "\n",
    "#     if len(df) == 0:\n",
    "#         continue\n",
    "    \n",
    "#     df.loc[:, 'date'] = pd.to_datetime(date)\n",
    "    \n",
    "#     stages_df.loc[:, 'date'] = pd.to_datetime(date)\n",
    "    \n",
    "#     final_df_list.append(df)\n",
    "#     final_stages_df_list.append(stages_df)\n",
    "\n",
    "# final_df = pd.concat(final_df_list, axis = 0)\n",
    "\n",
    "# final_stages_df = pd.concat(final_stages_df_list, axis = 0)"
   ]
  },
  {
   "cell_type": "code",
   "execution_count": null,
   "id": "0d68cfaa",
   "metadata": {},
   "outputs": [],
   "source": []
  },
  {
   "cell_type": "markdown",
   "id": "dc1f0ae0",
   "metadata": {},
   "source": [
    "### Trying to get SpO2 or Breathing Rate (br) data\n",
    "\n",
    "Although this function is written exactly like the one for sleep, for some reason it still gives a 403 error (probably because there are bugs on the Fitbit side of the API).\n",
    "\n",
    "> Try with breathing rate"
   ]
  },
  {
   "cell_type": "code",
   "execution_count": null,
   "id": "de7d4774",
   "metadata": {},
   "outputs": [],
   "source": [
    "def get_spo2_data(ACCESS_TOKEN, date):\n",
    "    \"\"\"\n",
    "    Inputs:\n",
    "        - ACCESS_TOKEN <str>: Access token to be used by the API call.\n",
    "        - date <str> (yyyy-mm-dd): Date for which we want to pull data.\n",
    "        \n",
    "    Returns the data related to SpO2 for <date> from the Fitbit API. \n",
    "    \"\"\"\n",
    "    \n",
    "    # Check date value\n",
    "    spo2_date = \"2023-04-21\"\n",
    "    if datetime.strptime(date, '%Y-%m-%d') < datetime.strptime(spo2_date, '%Y-%m-%d'):\n",
    "        raise ValueError(\"date cannot be before {} because there is no data before that date.\".format(START_DATE))\n",
    "    \n",
    "    # Make API get request\n",
    "    headers = {\n",
    "        'accept': 'application/json',\n",
    "        'authorization': 'Bearer {}'.format(ACCESS_TOKEN),\n",
    "    }\n",
    "\n",
    "    response = requests.get('https://api.fitbit.com/1/user/-/spo2/date/{}/all.json'.format(date), \n",
    "                            headers=headers)\n",
    "\n",
    "    return response # response.json\n",
    "\n",
    "date = \"2023-04-21\"\n",
    "get_spo2_data(ACCESS_TOKEN, date)"
   ]
  },
  {
   "cell_type": "markdown",
   "id": "26599228",
   "metadata": {},
   "source": [
    "## General example - ignore"
   ]
  },
  {
   "cell_type": "markdown",
   "id": "7db0b1d0",
   "metadata": {},
   "source": [
    "This is just an example of how to get data in general. Can be deleted, left it here for reference."
   ]
  },
  {
   "cell_type": "code",
   "execution_count": null,
   "id": "52de0b8e",
   "metadata": {},
   "outputs": [],
   "source": [
    "# This is the date of data that I want. \n",
    "# You will need to modify for the date you want\n",
    "oneDate = pd.datetime(year = 2023, month = 3, day = 30)\n",
    "# Example\n",
    "oneDayData = auth2_client.intraday_time_series('activities/heart', oneDate, detail_level='1sec')"
   ]
  },
  {
   "cell_type": "code",
   "execution_count": null,
   "id": "96e754ba",
   "metadata": {},
   "outputs": [],
   "source": [
    "oneDayData"
   ]
  },
  {
   "cell_type": "code",
   "execution_count": null,
   "id": "ec81620c",
   "metadata": {},
   "outputs": [],
   "source": [
    "df = pd.DataFrame(oneDayData['activities-heart-intraday']['dataset'])\n",
    "# Convert obj dtype to datetime object\n",
    "df['time'] = pd.to_datetime(df['time'], format='%H:%M:%S').dt.strftime('%H:%M:%S')\n",
    "# Make time the df index\n",
    "df = df.set_index('time')"
   ]
  },
  {
   "cell_type": "code",
   "execution_count": null,
   "id": "5be690f2",
   "metadata": {},
   "outputs": [],
   "source": [
    "df.head()"
   ]
  },
  {
   "cell_type": "code",
   "execution_count": null,
   "id": "826bedc6",
   "metadata": {},
   "outputs": [],
   "source": [
    "start_time = '14:00:00'\n",
    "end_time = '17:00:00'\n",
    "\n",
    "df[start_time:end_time].plot()"
   ]
  },
  {
   "cell_type": "markdown",
   "id": "2d227a80",
   "metadata": {},
   "source": [
    "# 2 - Import data into MongoDB"
   ]
  },
  {
   "cell_type": "code",
   "execution_count": null,
   "id": "7e194ab8",
   "metadata": {},
   "outputs": [],
   "source": [
    "# from pymongo import MongoClient\n",
    "# mClient = MongoClient('localhost', 27017)"
   ]
  }
 ],
 "metadata": {
  "kernelspec": {
   "display_name": "Python 3 (ipykernel)",
   "language": "python",
   "name": "python3"
  },
  "language_info": {
   "codemirror_mode": {
    "name": "ipython",
    "version": 3
   },
   "file_extension": ".py",
   "mimetype": "text/x-python",
   "name": "python",
   "nbconvert_exporter": "python",
   "pygments_lexer": "ipython3",
   "version": "3.10.8"
  }
 },
 "nbformat": 4,
 "nbformat_minor": 5
}
