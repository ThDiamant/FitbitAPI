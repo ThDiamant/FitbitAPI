{
 "cells": [
  {
   "attachments": {},
   "cell_type": "markdown",
   "id": "50017554",
   "metadata": {},
   "source": [
    "# 1 - Interacting with the Fitbit API"
   ]
  },
  {
   "attachments": {},
   "cell_type": "markdown",
   "id": "10eb26c9",
   "metadata": {},
   "source": [
    "In this section we will be using the python-fitbit and the requests modules to get data from the Fitbit API. This is not the only way to do it, for example, a simple alternative would be to use the Fitbit Web API Explorer (https://dev.fitbit.com/build/reference/web-api/explore/). The steps taken here are largely outlined in this (https://towardsdatascience.com/using-the-fitbit-web-api-with-python-f29f119621ea) Towards Data Science article."
   ]
  },
  {
   "attachments": {},
   "cell_type": "markdown",
   "id": "071bce7e",
   "metadata": {},
   "source": [
    "## 1.1 Setting up "
   ]
  },
  {
   "attachments": {},
   "cell_type": "markdown",
   "id": "73380fd6",
   "metadata": {},
   "source": [
    "In this section we load all necessary modules, proceed with the authorization from the Fitbit API and also define the Fitbit object (from the python-fitbit module) which is used to make some GET requests to the Fitbit API."
   ]
  },
  {
   "cell_type": "code",
   "execution_count": 1,
   "id": "a7e8558b",
   "metadata": {},
   "outputs": [],
   "source": [
    "# Import necessary modules\n",
    "import gather_keys_oauth2 as Oauth2 # This is a python file you need to have in the same directory as your code so you can import it\n",
    "import fitbit\n",
    "import pandas as pd \n",
    "import datetime as dt\n",
    "import requests as req\n",
    "import warnings\n",
    "import functions as fun\n",
    "\n",
    "# Enter CLIENT_ID and CLIENT_SECRET\n",
    "CLIENT_ID = '23QRRC'\n",
    "CLIENT_SECRET = '51922a48a2df4434cc20afaac4ee97b8'\n",
    "\n",
    "# Date after which we have data\n",
    "START_DATE = \"2023-05-02\"\n",
    "END_DATE = \"2023-05-03\""
   ]
  },
  {
   "attachments": {},
   "cell_type": "markdown",
   "id": "e855a4d7",
   "metadata": {},
   "source": [
    "Upon execution of the cell below, you will be redirected to another tab and will be asked to login into your Fitbit account. Upon doing that you will see a page that should say something like \"Authentication Complete, you may close this tab\"."
   ]
  },
  {
   "cell_type": "code",
   "execution_count": 2,
   "id": "5719b36a",
   "metadata": {},
   "outputs": [
    {
     "name": "stderr",
     "output_type": "stream",
     "text": [
      "[08/May/2023:20:40:06] ENGINE Listening for SIGTERM.\n",
      "[08/May/2023:20:40:06] ENGINE Bus STARTING\n",
      "CherryPy Checker:\n",
      "The Application mounted at '' has an empty config.\n",
      "\n",
      "[08/May/2023:20:40:06] ENGINE Set handler for console events.\n",
      "[08/May/2023:20:40:06] ENGINE Started monitor thread 'Autoreloader'.\n",
      "[08/May/2023:20:40:07] ENGINE Serving on http://127.0.0.1:8080\n",
      "[08/May/2023:20:40:07] ENGINE Bus STARTED\n"
     ]
    },
    {
     "name": "stdout",
     "output_type": "stream",
     "text": [
      "127.0.0.1 - - [08/May/2023:20:40:09] \"GET /?code=f613c0d1b9457745a1807ffa4a1ccbeb86a2b069&state=R8SualC8TTEWxI8VbzwTzYcNZWfuRC HTTP/1.1\" 200 122 \"\" \"Mozilla/5.0 (Windows NT 10.0; Win64; x64) AppleWebKit/537.36 (KHTML, like Gecko) Chrome/113.0.0.0 Safari/537.36\"\n"
     ]
    },
    {
     "name": "stderr",
     "output_type": "stream",
     "text": [
      "[08/May/2023:20:40:10] ENGINE Bus STOPPING\n",
      "[08/May/2023:20:40:11] ENGINE HTTP Server cherrypy._cpwsgi_server.CPWSGIServer(('127.0.0.1', 8080)) shut down\n",
      "[08/May/2023:20:40:11] ENGINE Stopped thread 'Autoreloader'.\n",
      "[08/May/2023:20:40:11] ENGINE Removed handler for console events.\n",
      "[08/May/2023:20:40:11] ENGINE Bus STOPPED\n",
      "[08/May/2023:20:40:11] ENGINE Bus EXITING\n",
      "[08/May/2023:20:40:11] ENGINE Waiting for child threads to terminate...\n",
      "[08/May/2023:20:40:11] ENGINE Bus EXITED\n",
      "[08/May/2023:20:40:11] ENGINE Waiting for thread Thread-16.\n"
     ]
    }
   ],
   "source": [
    "# Authorize user\n",
    "server = Oauth2.OAuth2Server(CLIENT_ID, CLIENT_SECRET)\n",
    "server.browser_authorize()\n",
    "# Save access and refresh tokens\n",
    "ACCESS_TOKEN = str(server.fitbit.client.session.token['access_token'])\n",
    "REFRESH_TOKEN = str(server.fitbit.client.session.token['refresh_token'])\n",
    "EXPIRES_AT = str(server.fitbit.client.session.token['expires_at'])"
   ]
  },
  {
   "attachments": {},
   "cell_type": "markdown",
   "id": "24c59dc0",
   "metadata": {},
   "source": [
    "In the previous cells we completed the authorization process for the Id and Secret that is specified in the first code block. Next, we create an instance of the Fitbit object of the python-fitbit module, which will be the base object we will use to get the data we want."
   ]
  },
  {
   "cell_type": "code",
   "execution_count": 3,
   "id": "5d1e33d5",
   "metadata": {},
   "outputs": [],
   "source": [
    "# Create Fitbit object which will be used to get the data\n",
    "auth2_client = fitbit.Fitbit(client_id = CLIENT_ID,\n",
    "                             client_secret = CLIENT_SECRET,\n",
    "                             expires_at = EXPIRES_AT,\n",
    "                             oauth2 = True,\n",
    "                             access_token = ACCESS_TOKEN,\n",
    "                             refresh_token = REFRESH_TOKEN)"
   ]
  },
  {
   "attachments": {},
   "cell_type": "markdown",
   "id": "a323cd62",
   "metadata": {},
   "source": [
    "## 1.2 Get data"
   ]
  },
  {
   "attachments": {},
   "cell_type": "markdown",
   "id": "47497417",
   "metadata": {},
   "source": [
    "To get Sleep related data, we will be using the requests module. The reason for that is that for some reason in the python-fitbit module, there is an older API version variable that is hardcoded and we cannot change it (it's 1 while it should be 1.2 for Sleep data). As far as we know there is an issue about that in the module's Github page, but no implemented solution.\n",
    "\n",
    "Therefore what we did is that we used the Fitbit Web API Explorer to get the CURL of the endpoint we want to draw data from, converted it to python using the requests module, and get the data we want.\n",
    "\n",
    "For Activity data we used the python-fitbit module. We have used several different resources to quantify activity (steps, minutes active/sedentary).\n",
    "\n",
    "Please keep in mind that there is a rate limit for each user who has consented to share their data, and this limit is **150 API requests per hour**. This resets at the top of each hour.\n"
   ]
  },
  {
   "attachments": {},
   "cell_type": "markdown",
   "id": "41ec8a73",
   "metadata": {},
   "source": [
    "### Example code on how to get and transform sleep data: https://towardsdatascience.com/using-the-fitbit-web-api-with-python-f29f119621ea"
   ]
  },
  {
   "attachments": {},
   "cell_type": "markdown",
   "id": "2d227a80",
   "metadata": {},
   "source": [
    "# 2 - Import data into MongoDB"
   ]
  },
  {
   "cell_type": "code",
   "execution_count": null,
   "id": "e1fb6938",
   "metadata": {},
   "outputs": [],
   "source": [
    "#!pip install pymongo"
   ]
  },
  {
   "cell_type": "code",
   "execution_count": 4,
   "id": "7e194ab8",
   "metadata": {},
   "outputs": [
    {
     "name": "stdout",
     "output_type": "stream",
     "text": [
      "Connection to MongoDB server successful.\n"
     ]
    }
   ],
   "source": [
    "import pymongo as mongo\n",
    "client = mongo.MongoClient('localhost', 27017)\n",
    "\n",
    "# Check if the connection to the db was successful\n",
    "try:\n",
    "    db = client.admin\n",
    "    server_info = db.command('serverStatus')\n",
    "    print('Connection to MongoDB server successful.')\n",
    "    \n",
    "except mongo.errors.ConnectionFailure as e:\n",
    "    print('Connection to MongoDB server failed: %s' % e)\n",
    "\n",
    "\n",
    "USER_UUID = \"3cc4e2ee-8c2f-4c25-955b-fe7f6ffcbe44\"\n",
    "DB_NAME = \"fitbit\"\n",
    "DATA_COLLECTION_NAME = \"fitbitCollection\""
   ]
  },
  {
   "cell_type": "code",
   "execution_count": 6,
   "id": "d61440d1",
   "metadata": {},
   "outputs": [],
   "source": [
    "client.drop_database(\"fitbit\")"
   ]
  },
  {
   "cell_type": "code",
   "execution_count": 5,
   "id": "006f2c72",
   "metadata": {},
   "outputs": [
    {
     "name": "stdout",
     "output_type": "stream",
     "text": [
      "Collection fitbitCollection already exists, proceeding.\n",
      "Index type_1_data.dateTime_1 already exists, proceeding.\n"
     ]
    }
   ],
   "source": [
    "# Connect to the fitbitDb and the collection where the data are stored or create them if they don't exist\n",
    "fitbitDb = client[DB_NAME]\n",
    "fitbitCollection = fun.check_create_collection(fitbitDb, DATA_COLLECTION_NAME)\n",
    "fitbitDb.list_collection_names()\n",
    "\n",
    "# Define index\n",
    "fitbitIndex = [('type', mongo.ASCENDING), ('data.dateTime', mongo.ASCENDING)]\n",
    "fitbitIndexName = \"type_1_data.dateTime_1\"\n",
    "fun.check_create_index(fitbitCollection, fitbitIndex, fitbitIndexName)\n"
   ]
  },
  {
   "attachments": {},
   "cell_type": "markdown",
   "id": "3deac511",
   "metadata": {},
   "source": [
    "## Import Sleep data to mongo"
   ]
  },
  {
   "attachments": {},
   "cell_type": "markdown",
   "id": "5c82c73a",
   "metadata": {},
   "source": [
    "In this section we want to draw data from the Fitbit API and more specifically the Sleep endpoint, and then save that data in our local MongoDB instance.\n",
    "\n",
    "Reference for what the keys mean:\n",
    "https://dev.fitbit.com/build/reference/web-api/sleep/get-sleep-log-by-date/ "
   ]
  },
  {
   "cell_type": "code",
   "execution_count": 7,
   "id": "932dce61",
   "metadata": {},
   "outputs": [
    {
     "name": "stdout",
     "output_type": "stream",
     "text": [
      "Loaded sleep data for 2023-05-02.\n"
     ]
    }
   ],
   "source": [
    "global START_DATE\n",
    "global END_DATE\n",
    "global ACCESS_TOKEN\n",
    "\n",
    "try:\n",
    "    # Keys in the returned\n",
    "    skipKeys = [\"levels\", \"infoCode\", \"logId\", \"logType\", \"type\", \"dateOfSleep\"]\n",
    "\n",
    "    for single_date in fun.daterange(START_DATE, END_DATE):\n",
    "        # Get data from the fitbit API\n",
    "        oneDaySleepData = fun.get_sleep_data(single_date, ACCESS_TOKEN)\n",
    "\n",
    "        # Check if sleep data exist for the date we are looking at\n",
    "        if (len(oneDaySleepData[\"sleep\"]) > 0):\n",
    "            # Get data related to general sleep info as well as the sleep time series\n",
    "            sleepData = oneDaySleepData[\"sleep\"][0]\n",
    "            # Define which keys we want to keep\n",
    "            sleepDataKeys = [key for key in sleepData.keys() if key not in skipKeys or key == \"levels\"]\n",
    "            # For each key containing general information on sleep\n",
    "            for sleepDataKey in sleepDataKeys:  \n",
    "                # Dictionary that will hold the 'data' entry of the document\n",
    "                dataDict = {}    \n",
    "                # 'levels' contains the time series data\n",
    "                if sleepDataKey == \"levels\":\n",
    "                    sleepLevelsData = sleepData[sleepDataKey]\n",
    "                    for key in sleepLevelsData.keys():\n",
    "                        if key == \"data\" or key == \"shortData\":\n",
    "                            documentType = f\"sleepLevelsData-{key}\"\n",
    "                            for dataPoint in sleepLevelsData[key]:\n",
    "                                dataDict = {}\n",
    "                                # Convert string date to datetime.datetime so that's saved correctly in mongo\n",
    "                                dataDict[\"dateTime\"] = fun.to_datetime(dataPoint[\"dateTime\"])\n",
    "                                dataDict[\"level\"] = dataPoint[\"level\"]\n",
    "                                dataDict[\"value\"] = dataPoint[\"seconds\"]\n",
    "                                fun.create_and_save_document(fitbitCollection, documentType, dataDict)\n",
    "                else:\n",
    "                    documentType = \"sleep-{}\".format(sleepDataKey)\n",
    "                    # Convert datetime.date to datetime.datetime so that's saved correctly in mongo\n",
    "                    dataDict[\"dateTime\"] = fun.to_datetime(single_date)\n",
    "                    if isinstance(sleepData[sleepDataKey], str):\n",
    "                        dataDict[\"value\"] = fun.to_datetime(sleepData[sleepDataKey])\n",
    "                    else:\n",
    "                        dataDict[\"value\"] = sleepData[sleepDataKey]\n",
    "                    fun.create_and_save_document(fitbitCollection, documentType, dataDict)\n",
    "            # Get data related to summary sleep info\n",
    "            sleepSummaryData = oneDaySleepData[\"summary\"]\n",
    "            # For each key containing summary information on sleep\n",
    "            for sleepSummaryDataKey in sleepSummaryData.keys():\n",
    "                documentType, dataDict = fun.get_summary_key_data(sleepSummaryData, sleepSummaryDataKey, single_date)\n",
    "                fun.create_and_save_document(fitbitCollection, documentType, dataDict)\n",
    "        else:\n",
    "            warnings.warn(f\"Could not find sleep data for {single_date}.\")\n",
    "            continue\n",
    "        print(f'Loaded sleep data for {single_date}.')\n",
    "except Exception as e:\n",
    "    print('Error: %s' % e)\n",
    "\n"
   ]
  },
  {
   "attachments": {},
   "cell_type": "markdown",
   "id": "f4698fe3",
   "metadata": {},
   "source": [
    "## Import Activity data to mongo\n"
   ]
  },
  {
   "cell_type": "code",
   "execution_count": 8,
   "id": "f8596714",
   "metadata": {},
   "outputs": [
    {
     "name": "stdout",
     "output_type": "stream",
     "text": [
      "Loaded activity data for 2023-05-02.\n"
     ]
    }
   ],
   "source": [
    "global START_DATE\n",
    "global END_DATE\n",
    "\n",
    "try:\n",
    "    for single_date in fun.daterange(START_DATE, END_DATE):\n",
    "        # Get activity data from the fitbit API\n",
    "        oneDayActivityData = fun.get_activity_data(single_date, auth2_client)\n",
    "\n",
    "        # For each kind of activity\n",
    "        for activityTypeKey in oneDayActivityData.keys():\n",
    "            for key in oneDayActivityData[activityTypeKey].keys():\n",
    "                # Check if activity data exist for the date and type of activity we are looking at\n",
    "                if len(oneDayActivityData[activityTypeKey][key]) > 0:\n",
    "                    documentType = key.replace('activities-',\"\")\n",
    "                    if \"intraday\" not in key:\n",
    "                        dataDict = {}\n",
    "                        dataDict[\"dateTime\"] = fun.to_datetime(oneDayActivityData[activityTypeKey][key][0][\"dateTime\"])\n",
    "                        dataDict[\"value\"] = int(oneDayActivityData[activityTypeKey][key][0][\"value\"])\n",
    "                        fun.create_and_save_document(fitbitCollection, documentType, dataDict)\n",
    "                    else:\n",
    "                        for dataPoint in oneDayActivityData[activityTypeKey][key][\"dataset\"]:\n",
    "                            dataDict = {}\n",
    "                            dataDict[\"dateTime\"] = fun.to_datetime(single_date, time = dataPoint[\"time\"])\n",
    "                            dataDict[\"value\"] = int(dataPoint[\"value\"])\n",
    "                            fun.create_and_save_document(fitbitCollection, documentType, dataDict)\n",
    "                else:\n",
    "                    warnings.warn(f\"Could not find {activityTypeKey}-{key} data for {single_date}.\")\n",
    "                    continue \n",
    "        print(f'Loaded activity data for {single_date}.')                            \n",
    "except Exception as e:\n",
    "    print('Error: %s' % e)"
   ]
  },
  {
   "cell_type": "code",
   "execution_count": null,
   "id": "83ffd3cd",
   "metadata": {},
   "outputs": [],
   "source": []
  }
 ],
 "metadata": {
  "kernelspec": {
   "display_name": "Python 3 (ipykernel)",
   "language": "python",
   "name": "python3"
  },
  "language_info": {
   "codemirror_mode": {
    "name": "ipython",
    "version": 3
   },
   "file_extension": ".py",
   "mimetype": "text/x-python",
   "name": "python",
   "nbconvert_exporter": "python",
   "pygments_lexer": "ipython3",
   "version": "3.11.3"
  }
 },
 "nbformat": 4,
 "nbformat_minor": 5
}
