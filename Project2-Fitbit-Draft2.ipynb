{
 "cells": [
  {
   "cell_type": "markdown",
   "id": "50017554",
   "metadata": {},
   "source": [
    "# 1 - Interacting with the Fitbit API"
   ]
  },
  {
   "cell_type": "markdown",
   "id": "10eb26c9",
   "metadata": {},
   "source": [
    "In this section we will be using the python-fitbit and the requests modules to get data from the Fitbit API. This is not the only way to do it, for example, a simple alternative would be to use the Fitbit Web API Explorer (https://dev.fitbit.com/build/reference/web-api/explore/). The steps taken here are largely outlined in this (https://towardsdatascience.com/using-the-fitbit-web-api-with-python-f29f119621ea) Towards Data Science article."
   ]
  },
  {
   "cell_type": "markdown",
   "id": "071bce7e",
   "metadata": {},
   "source": [
    "## 1.1 Setting up "
   ]
  },
  {
   "cell_type": "markdown",
   "id": "73380fd6",
   "metadata": {},
   "source": [
    "In this section we load all necessary modules, proceed with the authorization from the Fitbit API and also define the Fitbit object (from the python-fitbit module) which is used to make some GET requests to the Fitbit API."
   ]
  },
  {
   "cell_type": "code",
   "execution_count": 1,
   "id": "a7e8558b",
   "metadata": {},
   "outputs": [],
   "source": [
    "# Import necessary modules\n",
    "import gather_keys_oauth2 as Oauth2 # This is a python file you need to have in the same directory as your code so you can import it\n",
    "import fitbit\n",
    "import pandas as pd \n",
    "import datetime as dt\n",
    "import requests as req\n",
    "import warnings\n",
    "\n",
    "# Enter CLIENT_ID and CLIENT_SECRET\n",
    "CLIENT_ID = '23QRRC'\n",
    "CLIENT_SECRET = '51922a48a2df4434cc20afaac4ee97b8'\n",
    "\n",
    "# Date after which we have data\n",
    "START_DATE = \"2023-03-29\"\n",
    "END_DATE = \"2023-04-20\"\n",
    "\n"
   ]
  },
  {
   "cell_type": "markdown",
   "id": "e855a4d7",
   "metadata": {},
   "source": [
    "Upon execution of the cell below, you will be redirected to another tab and will be asked to login into your Fitbit account. Upon doing that you will see a page that should say something like \"Authentication Complete, you may close this tab\"."
   ]
  },
  {
   "cell_type": "code",
   "execution_count": 2,
   "id": "5719b36a",
   "metadata": {},
   "outputs": [
    {
     "name": "stderr",
     "output_type": "stream",
     "text": [
      "[04/May/2023:13:53:04] ENGINE Listening for SIGTERM.\n",
      "[04/May/2023:13:53:04] ENGINE Bus STARTING\n",
      "CherryPy Checker:\n",
      "The Application mounted at '' has an empty config.\n",
      "\n",
      "[04/May/2023:13:53:04] ENGINE Set handler for console events.\n",
      "[04/May/2023:13:53:04] ENGINE Started monitor thread 'Autoreloader'.\n",
      "[04/May/2023:13:53:04] ENGINE Serving on http://127.0.0.1:8080\n",
      "[04/May/2023:13:53:04] ENGINE Bus STARTED\n"
     ]
    },
    {
     "name": "stdout",
     "output_type": "stream",
     "text": [
      "127.0.0.1 - - [04/May/2023:13:53:07] \"GET /?code=ebd399e4fa36e8524efe89cfa57220208adcfb4b&state=gRICXeKEeCXSaFQC9GJjGZ7iBqepcb HTTP/1.1\" 200 122 \"\" \"Mozilla/5.0 (Windows NT 10.0; Win64; x64) AppleWebKit/537.36 (KHTML, like Gecko) Chrome/112.0.0.0 Safari/537.36\"\n"
     ]
    },
    {
     "name": "stderr",
     "output_type": "stream",
     "text": [
      "[04/May/2023:13:53:08] ENGINE Bus STOPPING\n",
      "[04/May/2023:13:53:08] ENGINE HTTP Server cherrypy._cpwsgi_server.CPWSGIServer(('127.0.0.1', 8080)) shut down\n",
      "[04/May/2023:13:53:08] ENGINE Removed handler for console events.\n",
      "[04/May/2023:13:53:08] ENGINE Stopped thread 'Autoreloader'.\n",
      "[04/May/2023:13:53:08] ENGINE Bus STOPPED\n",
      "[04/May/2023:13:53:08] ENGINE Bus EXITING\n",
      "[04/May/2023:13:53:08] ENGINE Waiting for child threads to terminate...\n",
      "[04/May/2023:13:53:08] ENGINE Bus EXITED\n",
      "[04/May/2023:13:53:08] ENGINE Waiting for thread Thread-16.\n"
     ]
    }
   ],
   "source": [
    "# Authorize user\n",
    "server = Oauth2.OAuth2Server(CLIENT_ID, CLIENT_SECRET)\n",
    "server.browser_authorize()\n",
    "# Save access and refresh tokens\n",
    "ACCESS_TOKEN = str(server.fitbit.client.session.token['access_token'])\n",
    "REFRESH_TOKEN = str(server.fitbit.client.session.token['refresh_token'])\n",
    "EXPIRES_AT = str(server.fitbit.client.session.token['expires_at'])"
   ]
  },
  {
   "cell_type": "markdown",
   "id": "24c59dc0",
   "metadata": {},
   "source": [
    "In the previous cells we completed the authorization process for the Id and Secret that is specified in the first code block. Next, we create an instance of the Fitbit object of the python-fitbit module, which will be the base object we will use to get the data we want."
   ]
  },
  {
   "cell_type": "code",
   "execution_count": 3,
   "id": "5d1e33d5",
   "metadata": {},
   "outputs": [],
   "source": [
    "# Create Fitbit object which will be used to get the data\n",
    "auth2_client = fitbit.Fitbit(client_id = CLIENT_ID,\n",
    "                             client_secret = CLIENT_SECRET,\n",
    "                             expires_at = EXPIRES_AT,\n",
    "                             oauth2 = True,\n",
    "                             access_token = ACCESS_TOKEN,\n",
    "                             refresh_token = REFRESH_TOKEN)"
   ]
  },
  {
   "cell_type": "markdown",
   "id": "a323cd62",
   "metadata": {},
   "source": [
    "## 1.2 Get data"
   ]
  },
  {
   "attachments": {},
   "cell_type": "markdown",
   "id": "47497417",
   "metadata": {},
   "source": [
    "To get Sleep related data, we will be using the requests module. The reason for that is that for some reason in the python-fitbit module, there is an older API version variable that is hardcoded and we cannot change it (it's 1 while it should be 1.2 for Sleep data). As far as we know there is an issue about that in the module's Github page, but no implemented solution.\n",
    "\n",
    "Therefore what we did is that we used the Fitbit Web API Explorer to get the CURL of the endpoint we want to draw data from, converted it to python using the requests module, and get the data we want.\n",
    "\n",
    "For Activity data we used the python-fitbit module. We have used several different resources to quantify activity (steps, minutes active/sedentary).\n",
    "\n",
    "Please keep in mind that there is a rate limit for each user who has consented to share their data, and this limit is **150 API requests per hour**. This resets at the top of each hour.\n"
   ]
  },
  {
   "cell_type": "code",
   "execution_count": 4,
   "id": "a0a4f144",
   "metadata": {
    "scrolled": true
   },
   "outputs": [],
   "source": [
    "def to_date(x):\n",
    "    \"\"\"\n",
    "    Returns x as a datetime.date() object.\n",
    "    \"\"\"\n",
    "    if isinstance(x, str):\n",
    "        # If input is a string, parse it as a date\n",
    "        return dt.datetime.strptime(x, \"%Y-%m-%d\").date()\n",
    "    elif isinstance(x, dt.date):\n",
    "        # If input is already a date object, return it\n",
    "        return x\n",
    "    else:\n",
    "        # Otherwise, raise an error\n",
    "        raise ValueError(\"Input must be a string or datetime.date object\")\n",
    "\n",
    "\n",
    "def get_sleep_data(date):\n",
    "    \"\"\"\n",
    "    Inputs:\n",
    "        - date <str> (yyyy-mm-dd): Date for which we want to pull data.\n",
    "        \n",
    "    Returns the data related to sleep for <date> from the Fitbit API. \n",
    "    \"\"\"\n",
    "\n",
    "    global START_DATE\n",
    "    global ACCESS_TOKEN\n",
    "        \n",
    "    date = to_date(date)\n",
    "    start_date = to_date(START_DATE)\n",
    "\n",
    "    # Check date value\n",
    "    if date < start_date:\n",
    "        raise ValueError(\"date cannot be before {}\".format(start_date))\n",
    "    \n",
    "    # Make API get request\n",
    "    headers = {\n",
    "        'accept': 'application/json',\n",
    "        'authorization': 'Bearer {}'.format(ACCESS_TOKEN),\n",
    "    }\n",
    "    try:\n",
    "        response = req.get('https://api.fitbit.com/1.2/user/-/sleep/date/{}.json'.format(date), \n",
    "                           headers = headers)\n",
    "    except fitbit.exceptions.HTTPTooManyRequests as e:\n",
    "        tryAfterMin = e.retry_after_secs/60\n",
    "        errorMessage = str(e) + \", please try again after {:.1f} min.\".format(tryAfterMin)\n",
    "        raise Exception(errorMessage)\n",
    "\n",
    "    return response.json()\n",
    "\n",
    "\n",
    "def get_activity_data(date):\n",
    "    \"\"\"\n",
    "    Inputs:\n",
    "        - date <str> (yyyy-mm-dd): Date we want the data of.\n",
    "    \n",
    "    Returns activity data for the specified date. Activity is quantified in terms of the elements of the resources list\n",
    "    that is defined inside the function.\n",
    "    \"\"\"\n",
    "    \n",
    "    global START_DATE\n",
    "\n",
    "    date = to_date(date)\n",
    "    start_date = to_date(START_DATE)\n",
    "\n",
    "    # Check date value\n",
    "    if date < start_date:\n",
    "        raise ValueError(\"date cannot be before {}\".format(start_date))\n",
    "   \n",
    "    # Dictionary where data returned by the API will be stored\n",
    "    data = {}\n",
    "\n",
    "    # Different kinds of resources that quantify activity\n",
    "    resources = [\n",
    "        \"minutesSedentary\",\n",
    "        \"minutesLightlyActive\",\n",
    "        \"minutesFairlyActive\",\n",
    "        \"minutesVeryActive\",\n",
    "        \"steps\"\n",
    "    ]\n",
    "    \n",
    "    try:\n",
    "        # A separate API call is made for each resource\n",
    "        for resource in resources:\n",
    "            resourceString = \"activities/\" + resource\n",
    "            # detailString can be one of 1min, 5min, 15min\n",
    "            if resource == \"steps\":\n",
    "                # Thought this might make more sense, feel free to change it if you think otherwise\n",
    "                detailString = \"1min\"\n",
    "            else:\n",
    "                detailString = \"15min\"\n",
    "            \n",
    "            # Use fitbit module to make the API get request\n",
    "            data[resource] = auth2_client.intraday_time_series(resourceString, \n",
    "                                                               date, \n",
    "                                                               detail_level = detailString)\n",
    "    except fitbit.exceptions.HTTPTooManyRequests as e:\n",
    "        tryAfterMin = e.retry_after_secs/60\n",
    "        errorMessage = str(e) + \", please try again after {:.1f} min.\".format(tryAfterMin)\n",
    "        raise Exception(errorMessage)\n",
    "        \n",
    "    return data\n",
    "\n",
    "\n",
    "def daterange(start_date, end_date):\n",
    "    \"\"\"\n",
    "    Inputs:\n",
    "        start_date, end_date: Can be either string or datetime.date\n",
    "\n",
    "    Returns all dates in [start_date, end_date] as datetime.date objects.\n",
    "    \"\"\"\n",
    "    start_date = to_date(start_date)\n",
    "    end_date = to_date(end_date)\n",
    "    for n in range(int((end_date - start_date).days)):\n",
    "        yield start_date + dt.timedelta(n)\n"
   ]
  },
  {
   "attachments": {},
   "cell_type": "markdown",
   "id": "41ec8a73",
   "metadata": {},
   "source": [
    "### Example code on how to get and transform sleep data: https://towardsdatascience.com/using-the-fitbit-web-api-with-python-f29f119621ea"
   ]
  },
  {
   "cell_type": "markdown",
   "id": "2d227a80",
   "metadata": {},
   "source": [
    "# 2 - Import data into MongoDB"
   ]
  },
  {
   "cell_type": "code",
   "execution_count": null,
   "id": "e1fb6938",
   "metadata": {},
   "outputs": [],
   "source": [
    "#!pip install pymongo"
   ]
  },
  {
   "cell_type": "code",
   "execution_count": 5,
   "id": "7e194ab8",
   "metadata": {},
   "outputs": [
    {
     "name": "stdout",
     "output_type": "stream",
     "text": [
      "Connection to MongoDB server successful.\n"
     ]
    }
   ],
   "source": [
    "import pymongo as mongo\n",
    "client = mongo.MongoClient('localhost', 27017)\n",
    "\n",
    "# Check if the connection to the db was successful\n",
    "try:\n",
    "    db = client.admin\n",
    "    server_info = db.command('serverStatus')\n",
    "    print('Connection to MongoDB server successful.')\n",
    "    \n",
    "except mongo.errors.ConnectionFailure as e:\n",
    "    print('Connection to MongoDB server failed: %s' % e)\n",
    "\n",
    "\n",
    "USER_UUID = \"3cc4e2ee-8c2f-4c25-955b-fe7f6ffcbe44\"\n",
    "DB_NAME = \"fitbit\"\n",
    "DATA_COLLECTION_NAME = \"fitbitCollection\""
   ]
  },
  {
   "cell_type": "code",
   "execution_count": 6,
   "id": "d61440d1",
   "metadata": {},
   "outputs": [],
   "source": [
    "# client.drop_database(\"fitbit\")"
   ]
  },
  {
   "cell_type": "code",
   "execution_count": 7,
   "id": "006f2c72",
   "metadata": {},
   "outputs": [
    {
     "name": "stdout",
     "output_type": "stream",
     "text": [
      "Collection fitbitCollection created.\n",
      "Index type_1_data.dateTime_1 created.\n"
     ]
    }
   ],
   "source": [
    "def check_create_collection(mongoDb, collection):\n",
    "    \"\"\" \n",
    "    Checks if collection exists in mongoDb, and if it doesn't it creates it.\n",
    "    \"\"\"\n",
    "    if collection in mongoDb.list_collection_names():\n",
    "        print(f\"Collection {collection} already exists, proceeding.\")\n",
    "    else:\n",
    "        mongoDb.create_collection(collection)\n",
    "        print(f\"Collection {collection} created.\")\n",
    "\n",
    "    return mongoDb[collection]\n",
    "\n",
    "\n",
    "def check_create_index(collection, index, indexName):\n",
    "    \"\"\" \n",
    "    Checks if index with indexName exists in collection, and if it doesn't it creates it.\n",
    "    \"\"\"\n",
    "    # Check if the index exists\n",
    "    if indexName not in [index['name'] for index in collection.list_indexes()]:\n",
    "        # Create the index if it does not exist\n",
    "        collection.create_index(index, name = indexName, unique=True)\n",
    "        print(f\"Index {indexName} created.\")\n",
    "    else:\n",
    "        print(f\"Index {indexName} already exists, proceeding.\")\n",
    "\n",
    "\n",
    "# Connect to the fitbitDb and the collection where the data are stored or create them if they don't exist\n",
    "fitbitDb = client[DB_NAME]\n",
    "fitbitCollection = check_create_collection(fitbitDb, DATA_COLLECTION_NAME)\n",
    "fitbitDb.list_collection_names()\n",
    "\n",
    "# Define index\n",
    "fitbitIndex = [('type', mongo.ASCENDING), ('data.dateTime', mongo.ASCENDING)]\n",
    "fitbitIndexName = \"type_1_data.dateTime_1\"\n",
    "check_create_index(fitbitCollection, fitbitIndex, fitbitIndexName)\n"
   ]
  },
  {
   "attachments": {},
   "cell_type": "markdown",
   "id": "3deac511",
   "metadata": {},
   "source": [
    "## Import Sleep data to mongo"
   ]
  },
  {
   "attachments": {},
   "cell_type": "markdown",
   "id": "5c82c73a",
   "metadata": {},
   "source": [
    "In this section we want to draw data from the Fitbit API and more specifically the Sleep endpoint, and then save that data in our local MongoDB instance.\n",
    "\n",
    "Reference for what the keys mean:\n",
    "https://dev.fitbit.com/build/reference/web-api/sleep/get-sleep-log-by-date/ "
   ]
  },
  {
   "cell_type": "code",
   "execution_count": 8,
   "id": "00541eba",
   "metadata": {},
   "outputs": [],
   "source": [
    "def create_document(documentType, dataDict):\n",
    "    \"\"\" \n",
    "    Inputs:\n",
    "        > documentType <str>: The type entry of the document to be created.\n",
    "        > dataDict <dict>: The 'data' entry of the document to be created.\n",
    "\n",
    "    Creates a document to be inserted into MongoDB.\n",
    "    \"\"\"\n",
    "    global USER_UUID\n",
    "\n",
    "    myDocument = {}\n",
    "    myDocument[\"id\"] = USER_UUID\n",
    "    myDocument[\"type\"] = documentType\n",
    "    myDocument[\"data\"] = dataDict\n",
    "\n",
    "    return myDocument\n",
    "\n",
    "     \n",
    "def save_document(myCollection, myDocument):\n",
    "    \"\"\"\n",
    "    Inputs:\n",
    "        > myCollection: MongoDB collection in which we want to add myDocument.\n",
    "        > myDocument <dict>: Document to be inserted.\n",
    "    Adds myDocument in myCollection and checks if it was inserted successfully. If\n",
    "    If myDocument already exists in myCollection, if it cannot find it, a ValueError\n",
    "    is raised.\n",
    "    \"\"\"\n",
    "\n",
    "    try:\n",
    "        # Insert myDocument in Mongo\n",
    "        result = myCollection.insert_one(myDocument)\n",
    "        # Check if the document was inserted successfully\n",
    "        if not result.inserted_id:\n",
    "            raise Exception(f\"Document {myDocument} not inserted.\")\n",
    "    # If record already exists\n",
    "    except mongo.errors.DuplicateKeyError:\n",
    "        # Try to find the document in the DB\n",
    "        query = {\n",
    "            'type': myDocument['type'],\n",
    "            'data.dateTime': myDocument['data']['dateTime']\n",
    "        }\n",
    "\n",
    "        existing_doc = myCollection.find_one(query)\n",
    "        if existing_doc is None:\n",
    "            # Something went wrong, raise an error\n",
    "            raise ValueError(\"Cannot find existing document in the collection.\")\n",
    "        else:\n",
    "            # Document already exists, ignore it\n",
    "            pass\n",
    "    except Exception as e:\n",
    "        print('Error: %s' % e)\n",
    "    \n",
    "\n",
    "def create_and_save_document(fitbitCollection, documentType, dataDict):\n",
    "    \"\"\" \n",
    "    Creates and saves document into fitbitCollection\n",
    "    \"\"\"\n",
    "    dataDocument = create_document(documentType, dataDict)\n",
    "    save_document(fitbitCollection, dataDocument)\n",
    "\n",
    "\n",
    "def to_datetime(date, time = \"\"):\n",
    "    \"\"\"\n",
    "    Converts date (str or datetime.date) into datetime.datetime. If a time argument is given, it includes it\n",
    "    in the datetime.datetime object it returns.\n",
    "    \"\"\"\n",
    "\n",
    "    if isinstance(date, str):\n",
    "        datetimeObj = dt.datetime.fromisoformat(date)\n",
    "    elif isinstance(date, dt.date):\n",
    "        datetimeObj = dt.datetime.combine(date, dt.datetime.min.time())\n",
    "    else:\n",
    "        raise ValueError(\"Unsupported type for date. It should be either a string or a datetime.date object.\")\n",
    "    \n",
    "    if time != \"\":\n",
    "        datetimeObj = dt.datetime.combine(datetimeObj, dt.datetime.strptime(time, '%H:%M:%S').time())\n",
    "    \n",
    "    return datetimeObj\n",
    "\n",
    "\n",
    "def get_summary_key_data(sleepSummaryData, sleepSummaryDataKey, single_date):\n",
    "    \"\"\"\n",
    "    Input:\n",
    "        > sleepSummaryData <dict>: Contains the sleep data from the Fitbit API reponse under the 'summary' key.\n",
    "        > single_date <datetime.date>: The date the data of which we parse.\n",
    "    Output:\n",
    "        > documentType <str>: The 'type' key of the document to be inserted in MongoDB.\n",
    "        > dataDict <dict>: The 'data' key of the document to be insterted in MongoDB.\n",
    "\n",
    "    This function parses through the data the Fitbit API gives us for a single day and returns\n",
    "    only the data under the 'summary' key that we are interested in keeping in our MongoDB. \n",
    "    More specifically, it returns the type of the entry, and the relevant data for each key we decide to keep.\n",
    "    \"\"\"\n",
    "\n",
    "    # Dictionary that will hold the 'data' entry of the document\n",
    "    dataDict = {}\n",
    "    documentType = \"sleepSummary-{}\".format(sleepSummaryDataKey)\n",
    "\n",
    "    dataDict[\"dateTime\"] = to_datetime(single_date)\n",
    "    if sleepSummaryDataKey == \"stages\":\n",
    "        for stage in sleepSummaryData[sleepSummaryDataKey].keys():\n",
    "            dataDict[stage] = sleepSummaryData[sleepSummaryDataKey][stage]\n",
    "    else:\n",
    "        dataDict[sleepSummaryDataKey] = sleepSummaryData[sleepSummaryDataKey]\n",
    "\n",
    "    return documentType, dataDict\n"
   ]
  },
  {
   "cell_type": "code",
   "execution_count": 9,
   "id": "932dce61",
   "metadata": {},
   "outputs": [
    {
     "name": "stdout",
     "output_type": "stream",
     "text": [
      "Loaded data for 2023-03-29.\n",
      "Loaded data for 2023-03-30.\n",
      "Loaded data for 2023-03-31.\n",
      "Loaded data for 2023-04-01.\n",
      "Loaded data for 2023-04-02.\n"
     ]
    },
    {
     "name": "stderr",
     "output_type": "stream",
     "text": [
      "C:\\Users\\thdia\\AppData\\Local\\Temp\\ipykernel_14524\\2443699563.py:51: UserWarning: Could not find sleep data for 2023-04-03.\n",
      "  warnings.warn(f\"Could not find sleep data for {single_date}.\")\n"
     ]
    },
    {
     "name": "stdout",
     "output_type": "stream",
     "text": [
      "Loaded data for 2023-04-04.\n",
      "Loaded data for 2023-04-05.\n",
      "Loaded data for 2023-04-06.\n",
      "Loaded data for 2023-04-07.\n",
      "Loaded data for 2023-04-08.\n",
      "Loaded data for 2023-04-09.\n",
      "Loaded data for 2023-04-10.\n",
      "Loaded data for 2023-04-11.\n",
      "Loaded data for 2023-04-12.\n",
      "Loaded data for 2023-04-13.\n",
      "Loaded data for 2023-04-14.\n",
      "Loaded data for 2023-04-15.\n",
      "Loaded data for 2023-04-16.\n",
      "Loaded data for 2023-04-17.\n",
      "Loaded data for 2023-04-18.\n",
      "Loaded data for 2023-04-19.\n"
     ]
    }
   ],
   "source": [
    "global START_DATE\n",
    "global END_DATE\n",
    "\n",
    "try:\n",
    "    # Keys in the returned\n",
    "    skipKeys = [\"levels\", \"infoCode\", \"logId\", \"logType\", \"type\", \"dateOfSleep\"]\n",
    "\n",
    "    for single_date in daterange(START_DATE, END_DATE):\n",
    "        # Get data from the fitbit API\n",
    "        oneDaySleepData = get_sleep_data(single_date)\n",
    "\n",
    "        # Check if sleep data exist for the date we are looking at\n",
    "        if (len(oneDaySleepData[\"sleep\"]) > 0):\n",
    "            # Get data related to general sleep info as well as the sleep time series\n",
    "            sleepData = oneDaySleepData[\"sleep\"][0]\n",
    "            # Define which keys we want to keep\n",
    "            sleepDataKeys = [key for key in sleepData.keys() if key not in skipKeys or key == \"levels\"]\n",
    "            # For each key containing general information on sleep\n",
    "            for sleepDataKey in sleepDataKeys:  \n",
    "                # Dictionary that will hold the 'data' entry of the document\n",
    "                dataDict = {}    \n",
    "                # 'levels' contains the time series data\n",
    "                if sleepDataKey == \"levels\":\n",
    "                    sleepLevelsData = sleepData[sleepDataKey]\n",
    "                    for key in sleepLevelsData.keys():\n",
    "                        if key == \"data\" or key == \"shortData\":\n",
    "                            documentType = f\"sleepLevelsData-{key}\"\n",
    "                            for dataPoint in sleepLevelsData[key]:\n",
    "                                dataDict = {}\n",
    "                                # Convert string date to datetime.datetime so that's saved correctly in mongo\n",
    "                                dataDict[\"dateTime\"] = to_datetime(dataPoint[\"dateTime\"])\n",
    "                                dataDict[\"level\"] = dataPoint[\"level\"]\n",
    "                                dataDict[\"value\"] = dataPoint[\"seconds\"]\n",
    "                                create_and_save_document(fitbitCollection, documentType, dataDict)\n",
    "                else:\n",
    "                    documentType = \"sleep-{}\".format(sleepDataKey)\n",
    "                    # Convert datetime.date to datetime.datetime so that's saved correctly in mongo\n",
    "                    dataDict[\"dateTime\"] = to_datetime(single_date)\n",
    "                    if isinstance(sleepData[sleepDataKey], str):\n",
    "                        dataDict[\"value\"] = to_datetime(sleepData[sleepDataKey])\n",
    "                    else:\n",
    "                        dataDict[\"value\"] = sleepData[sleepDataKey]\n",
    "                    create_and_save_document(fitbitCollection, documentType, dataDict)\n",
    "            # Get data related to summary sleep info\n",
    "            sleepSummaryData = oneDaySleepData[\"summary\"]\n",
    "            # For each key containing summary information on sleep\n",
    "            for sleepSummaryDataKey in sleepSummaryData.keys():\n",
    "                documentType, dataDict = get_summary_key_data(sleepSummaryData, sleepSummaryDataKey, single_date)\n",
    "                create_and_save_document(fitbitCollection, documentType, dataDict)\n",
    "        else:\n",
    "            warnings.warn(f\"Could not find sleep data for {single_date}.\")\n",
    "            continue\n",
    "        print(f'Loaded sleep data for {single_date}.')\n",
    "except Exception as e:\n",
    "    print('Error: %s' % e)\n",
    "\n"
   ]
  },
  {
   "attachments": {},
   "cell_type": "markdown",
   "id": "f4698fe3",
   "metadata": {},
   "source": [
    "## Import Activity data to mongo\n"
   ]
  },
  {
   "cell_type": "code",
   "execution_count": 10,
   "id": "f8596714",
   "metadata": {},
   "outputs": [
    {
     "name": "stdout",
     "output_type": "stream",
     "text": [
      "Loaded data for 2023-03-29.\n",
      "Loaded data for 2023-03-30.\n",
      "Loaded data for 2023-03-31.\n",
      "Loaded data for 2023-04-01.\n",
      "Loaded data for 2023-04-02.\n",
      "Loaded data for 2023-04-03.\n",
      "Loaded data for 2023-04-04.\n",
      "Loaded data for 2023-04-05.\n",
      "Loaded data for 2023-04-06.\n",
      "Loaded data for 2023-04-07.\n",
      "Loaded data for 2023-04-08.\n",
      "Loaded data for 2023-04-09.\n",
      "Loaded data for 2023-04-10.\n",
      "Loaded data for 2023-04-11.\n",
      "Loaded data for 2023-04-12.\n",
      "Loaded data for 2023-04-13.\n",
      "Loaded data for 2023-04-14.\n",
      "Loaded data for 2023-04-15.\n",
      "Loaded data for 2023-04-16.\n",
      "Loaded data for 2023-04-17.\n",
      "Loaded data for 2023-04-18.\n",
      "Loaded data for 2023-04-19.\n"
     ]
    }
   ],
   "source": [
    "global START_DATE\n",
    "global END_DATE\n",
    "\n",
    "try:\n",
    "    for single_date in daterange(START_DATE, END_DATE):\n",
    "        # Get activity data from the fitbit API\n",
    "        oneDayActivityData = get_activity_data(single_date)\n",
    "\n",
    "        # For each kind of activity\n",
    "        for activityTypeKey in oneDayActivityData.keys():\n",
    "            for key in oneDayActivityData[activityTypeKey].keys():\n",
    "                # Check if activity data exist for the date and type of activity we are looking at\n",
    "                if len(oneDayActivityData[activityTypeKey][key]) > 0:\n",
    "                    documentType = key.replace('activities-',\"\")\n",
    "                    if \"intraday\" not in key:\n",
    "                        dataDict = {}\n",
    "                        dataDict[\"dateTime\"] = to_datetime(oneDayActivityData[activityTypeKey][key][0][\"dateTime\"])\n",
    "                        dataDict[\"value\"] = int(oneDayActivityData[activityTypeKey][key][0][\"value\"])\n",
    "                        create_and_save_document(fitbitCollection, documentType, dataDict)\n",
    "                    else:\n",
    "                        for dataPoint in oneDayActivityData[activityTypeKey][key][\"dataset\"]:\n",
    "                            dataDict = {}\n",
    "                            dataDict[\"dateTime\"] = to_datetime(single_date, time = dataPoint[\"time\"])\n",
    "                            dataDict[\"value\"] = int(dataPoint[\"value\"])\n",
    "                            create_and_save_document(fitbitCollection, documentType, dataDict)\n",
    "                else:\n",
    "                    warnings.warn(f\"Could not find {activityTypeKey}-{key} data for {single_date}.\")\n",
    "                    continue \n",
    "        print(f'Loaded activity data for {single_date}.')                            \n",
    "except Exception as e:\n",
    "    print('Error: %s' % e)"
   ]
  },
  {
   "cell_type": "code",
   "execution_count": null,
   "id": "83ffd3cd",
   "metadata": {},
   "outputs": [],
   "source": []
  }
 ],
 "metadata": {
  "kernelspec": {
   "display_name": "Python 3 (ipykernel)",
   "language": "python",
   "name": "python3"
  },
  "language_info": {
   "codemirror_mode": {
    "name": "ipython",
    "version": 3
   },
   "file_extension": ".py",
   "mimetype": "text/x-python",
   "name": "python",
   "nbconvert_exporter": "python",
   "pygments_lexer": "ipython3",
   "version": "3.10.8"
  }
 },
 "nbformat": 4,
 "nbformat_minor": 5
}
