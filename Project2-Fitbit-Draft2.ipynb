{
 "cells": [
  {
   "cell_type": "markdown",
   "id": "50017554",
   "metadata": {},
   "source": [
    "# 1 - Interacting with the Fitbit API"
   ]
  },
  {
   "cell_type": "markdown",
   "id": "10eb26c9",
   "metadata": {},
   "source": [
    "In this section we will be using the python-fitbit and the requests modules to get data from the Fitbit API. This is not the only way to do it, for example, a simple alternative would be to use the Fitbit Web API Explorer (https://dev.fitbit.com/build/reference/web-api/explore/). The steps taken here are largely outlined in this (https://towardsdatascience.com/using-the-fitbit-web-api-with-python-f29f119621ea) Towards Data Science article."
   ]
  },
  {
   "cell_type": "markdown",
   "id": "071bce7e",
   "metadata": {},
   "source": [
    "## 1.1 Setting up "
   ]
  },
  {
   "cell_type": "markdown",
   "id": "73380fd6",
   "metadata": {},
   "source": [
    "In this section we load all necessary modules, proceed with the authorization from the Fitbit API and also define the Fitbit object (from the python-fitbit module) which is used to make some GET requests to the Fitbit API."
   ]
  },
  {
   "cell_type": "code",
   "execution_count": 1,
   "id": "a7e8558b",
   "metadata": {},
   "outputs": [],
   "source": [
    "# Import necessary modules\n",
    "import gather_keys_oauth2 as Oauth2 # This is a python file you need to have in the same directory as your code so you can import it\n",
    "import fitbit\n",
    "import pandas as pd \n",
    "from datetime import datetime\n",
    "import requests\n",
    "\n",
    "# Enter CLIENT_ID and CLIENT_SECRET\n",
    "CLIENT_ID = '23QRRC'\n",
    "CLIENT_SECRET = '51922a48a2df4434cc20afaac4ee97b8'\n",
    "\n",
    "# Date after which we have data\n",
    "START_DATE = \"2023-03-29\""
   ]
  },
  {
   "cell_type": "markdown",
   "id": "e855a4d7",
   "metadata": {},
   "source": [
    "Upon execution of the cell below, you will be redirected to another tab and will be asked to login into your Fitbit account. Upon doing that you will see a page that should say something like \"Authentication Complete, you may close this tab\"."
   ]
  },
  {
   "cell_type": "code",
   "execution_count": 2,
   "id": "5719b36a",
   "metadata": {},
   "outputs": [
    {
     "name": "stderr",
     "output_type": "stream",
     "text": [
      "[28/Apr/2023:21:55:37] ENGINE Listening for SIGTERM.\n",
      "[28/Apr/2023:21:55:37] ENGINE Bus STARTING\n",
      "CherryPy Checker:\n",
      "The Application mounted at '' has an empty config.\n",
      "\n",
      "[28/Apr/2023:21:55:37] ENGINE Set handler for console events.\n",
      "[28/Apr/2023:21:55:37] ENGINE Started monitor thread 'Autoreloader'.\n",
      "[28/Apr/2023:21:55:37] ENGINE Serving on http://127.0.0.1:8080\n",
      "[28/Apr/2023:21:55:37] ENGINE Bus STARTED\n"
     ]
    },
    {
     "name": "stdout",
     "output_type": "stream",
     "text": [
      "127.0.0.1 - - [28/Apr/2023:21:56:13] \"GET /?code=f892804f0fcacda2af8a63acaa040f528f989c20&state=Fo234FLPT4eaJuHkT05s10DjRkcjKv HTTP/1.1\" 200 122 \"\" \"Mozilla/5.0 (Windows NT 10.0; Win64; x64) AppleWebKit/537.36 (KHTML, like Gecko) Chrome/112.0.0.0 Safari/537.36\"\n",
      "127.0.0.1 - - [28/Apr/2023:21:56:13] \"GET /favicon.ico HTTP/1.1\" 200 1406 \"http://127.0.0.1:8080/?code=f892804f0fcacda2af8a63acaa040f528f989c20&state=Fo234FLPT4eaJuHkT05s10DjRkcjKv\" \"Mozilla/5.0 (Windows NT 10.0; Win64; x64) AppleWebKit/537.36 (KHTML, like Gecko) Chrome/112.0.0.0 Safari/537.36\"\n"
     ]
    },
    {
     "name": "stderr",
     "output_type": "stream",
     "text": [
      "[28/Apr/2023:21:56:14] ENGINE Bus STOPPING\n",
      "[28/Apr/2023:21:56:14] ENGINE HTTP Server cherrypy._cpwsgi_server.CPWSGIServer(('127.0.0.1', 8080)) shut down\n",
      "[28/Apr/2023:21:56:14] ENGINE Stopped thread 'Autoreloader'.\n",
      "[28/Apr/2023:21:56:14] ENGINE Removed handler for console events.\n",
      "[28/Apr/2023:21:56:14] ENGINE Bus STOPPED\n",
      "[28/Apr/2023:21:56:14] ENGINE Bus EXITING\n",
      "[28/Apr/2023:21:56:14] ENGINE Waiting for child threads to terminate...\n",
      "[28/Apr/2023:21:56:14] ENGINE Bus EXITED\n",
      "[28/Apr/2023:21:56:14] ENGINE Waiting for thread Thread-16.\n"
     ]
    }
   ],
   "source": [
    "# Authorize user\n",
    "server=Oauth2.OAuth2Server(CLIENT_ID, CLIENT_SECRET)\n",
    "server.browser_authorize()\n",
    "# Save access and refresh tokens\n",
    "ACCESS_TOKEN = str(server.fitbit.client.session.token['access_token'])\n",
    "REFRESH_TOKEN = str(server.fitbit.client.session.token['refresh_token'])\n",
    "EXPIRES_AT = str(server.fitbit.client.session.token['expires_at'])"
   ]
  },
  {
   "cell_type": "markdown",
   "id": "24c59dc0",
   "metadata": {},
   "source": [
    "In the previous cells we completed the authorization process for the Id and Secret that is specified in the first code block. Next, we create an instance of the Fitbit object of the python-fitbit module, which will be the base object we will use to get the data we want."
   ]
  },
  {
   "cell_type": "code",
   "execution_count": 3,
   "id": "5d1e33d5",
   "metadata": {},
   "outputs": [],
   "source": [
    "# Create Fitbit object which will be used to get the data\n",
    "auth2_client = fitbit.Fitbit(client_id = CLIENT_ID,\n",
    "                             client_secret = CLIENT_SECRET,\n",
    "                             expires_at = EXPIRES_AT,\n",
    "                             oauth2 = True,\n",
    "                             access_token = ACCESS_TOKEN,\n",
    "                             refresh_token = REFRESH_TOKEN)"
   ]
  },
  {
   "cell_type": "markdown",
   "id": "a323cd62",
   "metadata": {},
   "source": [
    "## 1.2 Get data"
   ]
  },
  {
   "cell_type": "markdown",
   "id": "47497417",
   "metadata": {},
   "source": [
    "To get Sleep related data, we will be using the requests module. The reason for that is that for some reason in the python-fitbit module, there is an older API version variable that is hardcoded and we cannot change it (it's 1 while it should be 1.2 for Sleep data). As far as we know there is an issue about that in the module's Github page, but no implemented solution.\n",
    "\n",
    "Therefore what we did is that we used the Fitbit Web API Explorer to get the CURL of the endpoint we want to draw data from, converted it to python using the requests module, and get the data we want.\n",
    "\n",
    "For Activity data we used the python-fitbit module. We have used several different resources to quantify activity (steps, minutes active/sedentary).\n"
   ]
  },
  {
   "cell_type": "code",
   "execution_count": 4,
   "id": "a0a4f144",
   "metadata": {
    "scrolled": true
   },
   "outputs": [],
   "source": [
    "def get_sleep_data(date):\n",
    "    \"\"\"\n",
    "    Inputs:\n",
    "        - date <str> (yyyy-mm-dd): Date for which we want to pull data.\n",
    "        \n",
    "    Returns the data related to sleep for <date> from the Fitbit API. \n",
    "    \"\"\"\n",
    "    \n",
    "    # Check date value\n",
    "    global START_DATE\n",
    "    global ACCESS_TOKEN\n",
    "    if datetime.strptime(date, '%Y-%m-%d') < datetime.strptime(START_DATE, '%Y-%m-%d'):\n",
    "        raise ValueError(\"date cannot be before {}\".format(START_DATE))\n",
    "    \n",
    "    # Make API get request\n",
    "    headers = {\n",
    "        'accept': 'application/json',\n",
    "        'authorization': 'Bearer {}'.format(ACCESS_TOKEN),\n",
    "    }\n",
    "\n",
    "    response = requests.get('https://api.fitbit.com/1.2/user/-/sleep/date/{}.json'.format(date), \n",
    "                            headers=headers)\n",
    "\n",
    "    return response.json()\n",
    "\n",
    "\n",
    "def get_activity_data(date):\n",
    "    \"\"\"\n",
    "    Inputs:\n",
    "        - date <str> (yyyy-mm-dd): Date we want the data of.\n",
    "    \n",
    "    Returns activity data for the specified date. Activity is quantified in terms of the elements of the resources list\n",
    "    that is defined inside the function.\n",
    "    \"\"\"\n",
    "    \n",
    "    # Check date value\n",
    "    global START_DATE\n",
    "    if datetime.strptime(date, '%Y-%m-%d') < datetime.strptime(START_DATE, '%Y-%m-%d'):\n",
    "        raise ValueError(\"date cannot be before {}\".format(START_DATE))\n",
    "   \n",
    "    # Dictionary where data returned by the API will be stored\n",
    "    data = {}\n",
    "\n",
    "    # Different kinds of resources that quantify activity\n",
    "    resources = [\n",
    "        \"minutesSedentary\",\n",
    "        \"minutesLightlyActive\",\n",
    "        \"minutesFairlyActive\",\n",
    "        \"minutesVeryActive\",\n",
    "        \"steps\"\n",
    "    ]\n",
    "    \n",
    "    # A separate API call is made for each resource\n",
    "    for resource in resources:\n",
    "        resourceString = \"activities/\" + resource\n",
    "        # detailString can be one of 1min, 5min, 15min\n",
    "        if resource == \"steps\":\n",
    "            # Thought this might make more sense, feel free to change it if you think otherwise\n",
    "            detailString = \"1min\"\n",
    "        else:\n",
    "            detailString = \"15min\"\n",
    "        \n",
    "        # Use fitbit module to make the API get request\n",
    "        data[resource] = auth2_client.intraday_time_series(resourceString,\n",
    "                                                           date,\n",
    "                                                           detail_level = detailString)\n",
    "        \n",
    "    return data\n"
   ]
  },
  {
   "cell_type": "code",
   "execution_count": 5,
   "id": "bb81de66",
   "metadata": {},
   "outputs": [],
   "source": [
    "from datetime import date, timedelta\n",
    "\n",
    "def daterange(start_date, end_date):\n",
    "    for n in range(int((end_date - start_date).days)):\n",
    "        yield start_date + timedelta(n)"
   ]
  },
  {
   "cell_type": "markdown",
   "id": "41ec8a73",
   "metadata": {},
   "source": [
    "### Example code on how to get and transform sleep data. Just for reference. (source: https://towardsdatascience.com/using-the-fitbit-web-api-with-python-f29f119621ea)"
   ]
  },
  {
   "cell_type": "markdown",
   "id": "26599228",
   "metadata": {},
   "source": [
    "## General example - ignore"
   ]
  },
  {
   "cell_type": "markdown",
   "id": "7db0b1d0",
   "metadata": {},
   "source": [
    "This is just an example of how to get data in general. Can be deleted, left it here for reference."
   ]
  },
  {
   "cell_type": "code",
   "execution_count": 10,
   "id": "52de0b8e",
   "metadata": {},
   "outputs": [
    {
     "name": "stderr",
     "output_type": "stream",
     "text": [
      "/tmp/ipykernel_21421/3526614276.py:3: FutureWarning: The pandas.datetime class is deprecated and will be removed from pandas in a future version. Import from datetime module instead.\n",
      "  oneDate = pd.datetime(year = 2023, month = 3, day = 30)\n"
     ]
    }
   ],
   "source": [
    "# This is the date of data that I want. \n",
    "# You will need to modify for the date you want\n",
    "oneDate = pd.datetime(year = 2023, month = 3, day = 30)\n",
    "# Example\n",
    "oneDayData = auth2_client.intraday_time_series('activities/heart', oneDate, detail_level='1sec')"
   ]
  },
  {
   "cell_type": "code",
   "execution_count": null,
   "id": "96e754ba",
   "metadata": {},
   "outputs": [],
   "source": [
    "oneDayData"
   ]
  },
  {
   "cell_type": "code",
   "execution_count": 12,
   "id": "ec81620c",
   "metadata": {},
   "outputs": [],
   "source": [
    "df = pd.DataFrame(oneDayData['activities-heart-intraday']['dataset'])\n",
    "# Convert obj dtype to datetime object\n",
    "df['time'] = pd.to_datetime(df['time'], format='%H:%M:%S').dt.strftime('%H:%M:%S')\n",
    "# Make time the df index\n",
    "df = df.set_index('time')"
   ]
  },
  {
   "cell_type": "code",
   "execution_count": 13,
   "id": "5be690f2",
   "metadata": {},
   "outputs": [
    {
     "data": {
      "text/html": [
       "<div>\n",
       "<style scoped>\n",
       "    .dataframe tbody tr th:only-of-type {\n",
       "        vertical-align: middle;\n",
       "    }\n",
       "\n",
       "    .dataframe tbody tr th {\n",
       "        vertical-align: top;\n",
       "    }\n",
       "\n",
       "    .dataframe thead th {\n",
       "        text-align: right;\n",
       "    }\n",
       "</style>\n",
       "<table border=\"1\" class=\"dataframe\">\n",
       "  <thead>\n",
       "    <tr style=\"text-align: right;\">\n",
       "      <th></th>\n",
       "      <th>value</th>\n",
       "    </tr>\n",
       "    <tr>\n",
       "      <th>time</th>\n",
       "      <th></th>\n",
       "    </tr>\n",
       "  </thead>\n",
       "  <tbody>\n",
       "    <tr>\n",
       "      <th>00:00:03</th>\n",
       "      <td>92</td>\n",
       "    </tr>\n",
       "    <tr>\n",
       "      <th>00:00:13</th>\n",
       "      <td>91</td>\n",
       "    </tr>\n",
       "    <tr>\n",
       "      <th>00:00:23</th>\n",
       "      <td>93</td>\n",
       "    </tr>\n",
       "    <tr>\n",
       "      <th>00:00:38</th>\n",
       "      <td>93</td>\n",
       "    </tr>\n",
       "    <tr>\n",
       "      <th>00:00:43</th>\n",
       "      <td>92</td>\n",
       "    </tr>\n",
       "  </tbody>\n",
       "</table>\n",
       "</div>"
      ],
      "text/plain": [
       "          value\n",
       "time           \n",
       "00:00:03     92\n",
       "00:00:13     91\n",
       "00:00:23     93\n",
       "00:00:38     93\n",
       "00:00:43     92"
      ]
     },
     "execution_count": 13,
     "metadata": {},
     "output_type": "execute_result"
    }
   ],
   "source": [
    "df.head()"
   ]
  },
  {
   "cell_type": "code",
   "execution_count": 14,
   "id": "826bedc6",
   "metadata": {},
   "outputs": [
    {
     "data": {
      "text/plain": [
       "<Axes: xlabel='time'>"
      ]
     },
     "execution_count": 14,
     "metadata": {},
     "output_type": "execute_result"
    },
    {
     "data": {
      "image/png": "[encoded data removed]",
      "text/plain": [
       "<Figure size 640x480 with 1 Axes>"
      ]
     },
     "metadata": {},
     "output_type": "display_data"
    }
   ],
   "source": [
    "start_time = '14:00:00'\n",
    "end_time = '17:00:00'\n",
    "\n",
    "df[start_time:end_time].plot()"
   ]
  },
  {
   "cell_type": "markdown",
   "id": "2d227a80",
   "metadata": {},
   "source": [
    "# 2 - Import data into MongoDB"
   ]
  },
  {
   "cell_type": "code",
   "execution_count": 16,
   "id": "e1fb6938",
   "metadata": {},
   "outputs": [
    {
     "name": "stdout",
     "output_type": "stream",
     "text": [
      "Defaulting to user installation because normal site-packages is not writeable\n",
      "Collecting pymongo\n",
      "  Downloading pymongo-4.3.3-cp310-cp310-manylinux_2_17_x86_64.manylinux2014_x86_64.whl (492 kB)\n",
      "\u001b[2K     \u001b[90m━━━━━━━━━━━━━━━━━━━━━━━━━━━━━━━━━━━━━━━\u001b[0m \u001b[32m492.9/492.9 kB\u001b[0m \u001b[31m1.0 MB/s\u001b[0m eta \u001b[36m0:00:00\u001b[0m00:01\u001b[0m00:01\u001b[0m\n",
      "\u001b[?25hCollecting dnspython<3.0.0,>=1.16.0\n",
      "  Downloading dnspython-2.3.0-py3-none-any.whl (283 kB)\n",
      "\u001b[2K     \u001b[90m━━━━━━━━━━━━━━━━━━━━━━━━━━━━━━━━━━━━━━━\u001b[0m \u001b[32m283.7/283.7 kB\u001b[0m \u001b[31m2.7 MB/s\u001b[0m eta \u001b[36m0:00:00\u001b[0m00:01\u001b[0m00:01\u001b[0m\n",
      "\u001b[?25hInstalling collected packages: dnspython, pymongo\n",
      "Successfully installed dnspython-2.3.0 pymongo-4.3.3\n",
      "\n",
      "\u001b[1m[\u001b[0m\u001b[34;49mnotice\u001b[0m\u001b[1;39;49m]\u001b[0m\u001b[39;49m A new release of pip is available: \u001b[0m\u001b[31;49m23.0.1\u001b[0m\u001b[39;49m -> \u001b[0m\u001b[32;49m23.1.1\u001b[0m\n",
      "\u001b[1m[\u001b[0m\u001b[34;49mnotice\u001b[0m\u001b[1;39;49m]\u001b[0m\u001b[39;49m To update, run: \u001b[0m\u001b[32;49mpip install --upgrade pip\u001b[0m\n"
     ]
    }
   ],
   "source": [
    "#!pip install pymongo"
   ]
  },
  {
   "cell_type": "code",
   "execution_count": 6,
   "id": "7e194ab8",
   "metadata": {},
   "outputs": [],
   "source": [
    "from pymongo import MongoClient\n",
    "client = MongoClient('localhost', 27017)\n",
    "\n",
    "USER_UUID = \"3cc4e2ee-8c2f-4c25-955b-fe7f6ffcbe44\""
   ]
  },
  {
   "cell_type": "code",
   "execution_count": 7,
   "id": "cfae7863",
   "metadata": {},
   "outputs": [
    {
     "name": "stdout",
     "output_type": "stream",
     "text": [
      "Connection to MongoDB server successful.\n"
     ]
    }
   ],
   "source": [
    "try:\n",
    "    # Check if the connection was successful\n",
    "    db = client.admin\n",
    "    server_info = db.command('serverStatus')\n",
    "    print('Connection to MongoDB server successful.')\n",
    "    \n",
    "except pymongo.errors.ConnectionFailure as e:\n",
    "    print('Connection to MongoDB server failed: %s' % e)"
   ]
  },
  {
   "cell_type": "code",
   "execution_count": 8,
   "id": "d61440d1",
   "metadata": {},
   "outputs": [],
   "source": [
    "client.drop_database(\"fitbit\")\n",
    "\n",
    "# mydb = client[\"fitbit\"]\n",
    "# mycollection = mydb[\"fitbitCollection\"]\n",
    "# mycollection.drop()"
   ]
  },
  {
   "attachments": {},
   "cell_type": "markdown",
   "id": "3deac511",
   "metadata": {},
   "source": [
    "## Import Sleep data to mongo"
   ]
  },
  {
   "attachments": {},
   "cell_type": "markdown",
   "id": "5b097086",
   "metadata": {},
   "source": [
    "### TODO: Add checks to avoid any exception due to missing data"
   ]
  },
  {
   "cell_type": "code",
   "execution_count": 9,
   "id": "932dce61",
   "metadata": {},
   "outputs": [
    {
     "name": "stdout",
     "output_type": "stream",
     "text": [
      "Could not find sleep data for date 2023-04-03\n"
     ]
    }
   ],
   "source": [
    "try:\n",
    "    # Create a new database called \"fitbit\"\n",
    "    fitbitDb = client['fitbit']\n",
    "\n",
    "    # Create a new collection called \"fitbitCollection\"\n",
    "    fitbitCollection = fitbitDb['fitbitCollection']\n",
    "    skipKeys = [\"levels\", \"infoCode\", \"logId\", \"logType\", \"type\", \"dateOfSleep\"]\n",
    "    \n",
    "    # Insert a new document into the collection\n",
    "    start_date = date(2023, 3, 29)\n",
    "    end_date = date(2023, 4, 23)\n",
    "    for single_date in daterange(start_date, end_date):\n",
    "        sleepDateTime = single_date.strftime(\"%Y-%m-%d\")\n",
    "        oneDaySleepData = get_sleep_data(sleepDateTime)\n",
    "        if (len(oneDaySleepData[\"sleep\"]) > 0) :\n",
    "            sleepData = oneDaySleepData[\"sleep\"][0]\n",
    "        else:\n",
    "            print(\"Could not find sleep data for date {}\".format(sleepDateTime))\n",
    "            continue\n",
    "        global USER_UUID\n",
    "        for data in sleepData.keys():\n",
    "            if data not in skipKeys:\n",
    "                mydocument = {}\n",
    "                mydocument[\"id\"] = USER_UUID\n",
    "                mydocument[\"type\"] = \"sleep-{}\".format(data)\n",
    "                if \"data\" not in mydocument:\n",
    "                    mydocument[\"data\"] = {}\n",
    "                mydocument[\"data\"][\"dateTime\"] = sleepDateTime\n",
    "                mydocument[\"data\"][\"value\"] = sleepData[data]\n",
    "                result = fitbitCollection.insert_one(mydocument)\n",
    "        \n",
    "                # Check if the document was inserted successfully\n",
    "                if not result.inserted_id:\n",
    "                    print('Failed to insert document.')\n",
    "\n",
    "        sleepLevelsData = sleepData[\"levels\"]\n",
    "        for key in sleepLevelsData.keys():\n",
    "            if key == \"data\" or key == \"shortDate\":\n",
    "                for data in sleepLevelsData[key]:            \n",
    "                    mydocument = {}\n",
    "                    mydocument[\"id\"] = USER_UUID\n",
    "                    mydocument[\"type\"] = \"sleepLevelsData\"\n",
    "                    mydocument[\"data\"] = {}\n",
    "                    for val in data.keys():\n",
    "                        mydocument[\"data\"][val] = data[val]\n",
    "                    # mydocument[\"data\"][\"level\"] = sleepLevelsData[\"level\"]\n",
    "                    # mydocument[\"data\"][\"seconds\"] = sleepLevelsData[\"seconds\"]\n",
    "                    result = fitbitCollection.insert_one(mydocument)\n",
    "                    \n",
    "                    # Check if the document was inserted successfully\n",
    "                    if not result.inserted_id:\n",
    "                        print('Failed to insert document.')\n",
    "            else:\n",
    "                for sumKey in sleepLevelsData[\"summary\"].keys():\n",
    "                    mydocument = {}\n",
    "                    mydocument[\"id\"] = USER_UUID\n",
    "                    mydocument[\"type\"] = \"sleepLevelsSummary-{}\".format(sumKey)\n",
    "                    mydocument[\"data\"] = {}\n",
    "                    mydocument[\"data\"][\"dateTime\"] = sleepDateTime\n",
    "                    for data in sleepLevelsData[\"summary\"][sumKey]:        \n",
    "                        mydocument[\"data\"][data] = sleepLevelsData[\"summary\"][sumKey][data]\n",
    "                    result = fitbitCollection.insert_one(mydocument)\n",
    "                    \n",
    "                    # Check if the document was inserted successfully\n",
    "                    if not result.inserted_id:\n",
    "                        print('Failed to insert document.')\n",
    "                        \n",
    "        sleepSummaryData = oneDaySleepData[\"summary\"]\n",
    "        for key in sleepSummaryData.keys():\n",
    "            mydocument = {}\n",
    "            mydocument[\"id\"] = USER_UUID\n",
    "            mydocument[\"type\"] = \"sleepSummary-{}\".format(key)\n",
    "            mydocument[\"data\"] = {}\n",
    "            mydocument[\"data\"][\"dateTime\"] = sleepDateTime\n",
    "            if key == \"stages\":\n",
    "                for data in sleepSummaryData[key].keys():\n",
    "                    mydocument[\"data\"][data] = sleepSummaryData[key][data]\n",
    "            else:\n",
    "                mydocument[\"data\"][key] = sleepSummaryData[key]\n",
    "            result = fitbitCollection.insert_one(mydocument)\n",
    "            \n",
    "            # Check if the document was inserted successfully\n",
    "            if not result.inserted_id:\n",
    "                print('Failed to insert document.')\n",
    "         \n",
    "except Exception as e:\n",
    "    print('Error: %s' % e)"
   ]
  },
  {
   "attachments": {},
   "cell_type": "markdown",
   "id": "f4698fe3",
   "metadata": {},
   "source": [
    "## Import Activity data to mongo\n"
   ]
  },
  {
   "cell_type": "code",
   "execution_count": 10,
   "id": "f8596714",
   "metadata": {},
   "outputs": [],
   "source": [
    "try:\n",
    "    # Create a new database called \"fitbit\"\n",
    "    fitbitDb = client['fitbit']\n",
    "\n",
    "    # Create a new collection called \"fitbitCollection\"\n",
    "    fitbitCollection = fitbitDb['fitbitCollection']\n",
    "    # skipKeys = [\"datasetInterval\", \"datasetType\"]\n",
    "    \n",
    "    # Insert a new document into the collection\n",
    "    start_date = date(2023, 3, 29)\n",
    "    end_date = date(2023, 4, 23)\n",
    "    for single_date in daterange(start_date, end_date):\n",
    "        date = single_date.strftime(\"%Y-%m-%d\")\n",
    "        oneDayActivityData = get_activity_data(date)\n",
    "        global USER_UUID\n",
    "        for key in oneDayActivityData.keys():\n",
    "            for innerKey in oneDayActivityData[key].keys():\n",
    "                if \"intraday\" not in innerKey and len(oneDayActivityData[key][innerKey]) > 0:\n",
    "                    mydocument = {}\n",
    "                    mydocument[\"id\"] = USER_UUID\n",
    "                    mydocument[\"type\"] = innerKey\n",
    "                    mydocument[\"data\"] = {}\n",
    "                    mydocument[\"data\"][\"dateTime\"] = oneDayActivityData[key][innerKey][0][\"dateTime\"]\n",
    "                    mydocument[\"data\"][\"value\"] = oneDayActivityData[key][innerKey][0][\"value\"]\n",
    "                    result = fitbitCollection.insert_one(mydocument)\n",
    "            \n",
    "                    # Check if the document was inserted successfully\n",
    "                    if not result.inserted_id:\n",
    "                        print('Failed to insert document.')\n",
    "                else:\n",
    "                    for data in oneDayActivityData[key][innerKey][\"dataset\"]:\n",
    "                        mydocument = {}\n",
    "                        mydocument[\"id\"] = USER_UUID\n",
    "                        mydocument[\"type\"] = innerKey\n",
    "                        mydocument[\"data\"] = {}\n",
    "                        for datakey in data.keys():\n",
    "                            if datakey == \"time\":\n",
    "                                mydocument[\"data\"][\"dateTime\"] = \"{}T{}\".format(date, data[datakey])\n",
    "                            else:\n",
    "                                mydocument[\"data\"][\"value\"] = data[datakey]\n",
    "                    \n",
    "                        result = fitbitCollection.insert_one(mydocument)\n",
    "\n",
    "                        # Check if the document was inserted successfully\n",
    "                        if not result.inserted_id:\n",
    "                            print('Failed to insert document.')\n",
    "                               \n",
    "except Exception as e:\n",
    "    print('Error: %s' % e)"
   ]
  },
  {
   "cell_type": "code",
   "execution_count": null,
   "id": "46843d2b",
   "metadata": {},
   "outputs": [],
   "source": [
    "myquery = { 'data.dateTime': {'$regex':'^2023' } }\n",
    "mydoc = fitbitCollection.find(myquery)\n",
    "\n",
    "for doc in mydoc:\n",
    "    print(doc)"
   ]
  },
  {
   "attachments": {},
   "cell_type": "markdown",
   "id": "ec4d02d3",
   "metadata": {},
   "source": [
    "### Streamlit Code\n"
   ]
  },
  {
   "cell_type": "code",
   "execution_count": null,
   "id": "6cc76897",
   "metadata": {},
   "outputs": [],
   "source": [
    "#!pip install streamlit\n",
    "\n",
    "# it should be also installed in the terminal by using sudo pip install streamlit"
   ]
  },
  {
   "cell_type": "code",
   "execution_count": 29,
   "id": "1b1bca17",
   "metadata": {},
   "outputs": [],
   "source": [
    "# import requests\n",
    "\n",
    "# # Set up the parameters for the subscription\n",
    "# resource_path = '/apiSubscriptions/320.json'  # Sleep resource path\n",
    "# callback_url = 'https://127.0.0.1:8080'  # Your callback URL\n",
    "\n",
    "# # Subscribe to the sleep resource\n",
    "# response = requests.post(f'https://api.fitbit.com/1/user/{CLIENT_ID}/apiSubscriptions/320.json', headers={\n",
    "#     'Authorization': f'Bearer {ACCESS_TOKEN}'\n",
    "# }, json={\n",
    "#     'callbackUrl': callback_url\n",
    "# })\n",
    "# # verify_token = response.json()['verifyToken']\n",
    "# # subscriber_id = response.json()['subscriberId']\n",
    "# # subscription_id = response.json()['subscriptionId']"
   ]
  },
  {
   "cell_type": "code",
   "execution_count": 30,
   "id": "700d20c9",
   "metadata": {},
   "outputs": [
    {
     "data": {
      "text/plain": [
       "{'errors': [{'errorType': 'insufficient_permissions',\n",
       "   'message': 'API client is not authorized by the resource owner to access the resource requested. Visit https://dev.fitbit.com/docs/oauth2 for more information on the Fitbit Web API authorization process.'}],\n",
       " 'success': False}"
      ]
     },
     "execution_count": 30,
     "metadata": {},
     "output_type": "execute_result"
    }
   ],
   "source": [
    "# response.json()"
   ]
  },
  {
   "cell_type": "code",
   "execution_count": null,
   "id": "27a31713",
   "metadata": {},
   "outputs": [],
   "source": []
  }
 ],
 "metadata": {
  "kernelspec": {
   "display_name": "Python 3 (ipykernel)",
   "language": "python",
   "name": "python3"
  },
  "language_info": {
   "codemirror_mode": {
    "name": "ipython",
    "version": 3
   },
   "file_extension": ".py",
   "mimetype": "text/x-python",
   "name": "python",
   "nbconvert_exporter": "python",
   "pygments_lexer": "ipython3",
   "version": "3.8.16"
  }
 },
 "nbformat": 4,
 "nbformat_minor": 5
}
